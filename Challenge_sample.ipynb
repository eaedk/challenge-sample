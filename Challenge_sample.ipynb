{
  "nbformat": 4,
  "nbformat_minor": 0,
  "metadata": {
    "colab": {
      "name": "Challenge sample.ipynb",
      "provenance": [],
      "collapsed_sections": [],
      "authorship_tag": "ABX9TyPZL+GaNtt8r+yVYubKXhvs",
      "include_colab_link": true
    },
    "kernelspec": {
      "name": "python3",
      "display_name": "Python 3"
    },
    "language_info": {
      "name": "python"
    }
  },
  "cells": [
    {
      "cell_type": "markdown",
      "metadata": {
        "id": "view-in-github",
        "colab_type": "text"
      },
      "source": [
        "<a href=\"https://colab.research.google.com/github/eaedk/challenge-sample/blob/main/Challenge_sample.ipynb\" target=\"_parent\"><img src=\"https://colab.research.google.com/assets/colab-badge.svg\" alt=\"Open In Colab\"/></a>"
      ]
    },
    {
      "cell_type": "markdown",
      "source": [
        "# Turtle Rescue Forecast Challenge\n",
        "<p>Can you forecast the number of turtles rescued per site per week in Kenya?</p>\n",
        "\n",
        "<img src=\"https://github.com/eaedk/challenge-sample/blob/main/challenge_wallpaper.png\" align=\"center\" alt=\"challenge\" ></img>\n",
        "\n",
        "\n",
        "The objective of this competition is to create a machine learning model to help Kenyan non-profit organization Local Ocean Conservation anticipate the number of turtles they will rescue from each of their rescue sites as part of their By-Catch Release Programme.\n",
        "\n",
        "\n",
        "Find bellow the import sections related to this challenge :\n",
        "- Extended description, Evalutation, Rules... [Read more](https://zindi.africa/competitions/turtle-rescue-forecast-challenge/discussions)\n",
        "\n",
        "- Dataset [Download it and read the description here](https://zindi.africa/competitions/turtle-rescue-forecast-challenge/data)\n",
        "\n",
        "- Chat with other challengers [click here](https://zindi.africa/competitions/turtle-rescue-forecast-challenge/discussions)"
      ],
      "metadata": {
        "id": "MxXc9g9ZKYqm"
      }
    },
    {
      "cell_type": "markdown",
      "source": [
        "# Hints\n",
        "To go through this challenge, you may need to follow this guide by reading and getting inspiration from these resources.\n",
        "\n",
        "## Image classification overview\n",
        "- [Basics of Image Classification Techniques in Machine Learning](https://iq.opengenus.org/basics-of-machine-learning-image-classification-techniques/)\n",
        "\n",
        "\n",
        "## How to handle image dataset ?\n",
        "- [How to Load and Visualize Standard Computer Vision Datasets With KerasHow to Load and Visualize Standard Computer Vision Datasets With Keras](https://machinelearningmastery.com/how-to-load-and-visualize-standard-computer-vision-datasets-with-keras/)\n",
        "- [Visualizing and preprocessing](https://towardsdatascience.com/visualizing-and-preprocessing-image-dataset-e3ad574f7be6)\n",
        "- [Loading Custom Image Dataset for Deep Learning Models](https://towardsdatascience.com/loading-custom-image-dataset-for-deep-learning-models-part-1-d64fa7aaeca6)\n",
        "\n",
        "## How to manage small / unbalanced datasets?\n",
        "\n",
        "- [Data augmentation | TensorFlow Core](https://www.tensorflow.org/tutorials/images/data_augmentation)\n",
        "- [How to Configure Image Data Augmentation in Keras](https://machinelearningmastery.com/how-to-configure-image-data-augmentation-when-training-deep-learning-neural-networks/)\n",
        "- [Data Augmentation | How to use Deep Learning when you have Limited Data ](https://nanonets.com/blog/data-augmentation-how-to-use-deep-learning-when-you-have-limited-data-part-2/)\n",
        "\n",
        "- [ 4 Ways to Improve Class Imbalance for Image Data ]( https://towardsdatascience.com/4-ways-to-improve-class-imbalance-for-image-data-9adec8f390f1 )\n",
        "\n",
        "\n",
        "\n",
        "## How to exploit Transfer Learning ?\n",
        "- [Top 4 Pre-Trained Models for Image Classification with Python Code](/notebooks/basic_features_overview.ipynb)\n",
        "- [Guide de Markdown](/notebooks/markdown_guide.ipynb)\n",
        "\n"
      ],
      "metadata": {
        "id": "07C1f-ZgSH4Q"
      }
    },
    {
      "cell_type": "markdown",
      "source": [
        "# Let's practice"
      ],
      "metadata": {
        "id": "Uwko4lZSSmoV"
      }
    },
    {
      "cell_type": "code",
      "source": [
        ""
      ],
      "metadata": {
        "id": "taeckzaxQjkg"
      },
      "execution_count": null,
      "outputs": []
    }
  ]
}